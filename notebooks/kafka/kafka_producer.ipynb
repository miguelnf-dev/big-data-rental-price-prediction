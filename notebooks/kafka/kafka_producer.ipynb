{
 "cells": [
  {
   "cell_type": "code",
   "execution_count": null,
   "id": "a418db63-10c4-4ff5-b8d7-fd1aa7912f7b",
   "metadata": {
    "tags": []
   },
   "outputs": [],
   "source": [
    "import pandas as pd\n",
    "import random\n",
    "import time\n",
    "import numpy as np\n",
    "from kafka import KafkaProducer\n",
    "from json import loads, dumps\n",
    "\n",
    "producer = KafkaProducer(bootstrap_servers='SERVER_URL_HERE')\n",
    "\n",
    "# Topic is house_listings\n",
    "# periodically send fake data to topic\n",
    "\n",
    "regions = [\"New York\", \"Los Angeles\", \"Chicago\"]\n",
    "types = [\"apartment\", \"house\"]\n",
    "laundry_options = [\"in unit\", \"on site\", \"hookups\"]\n",
    "parking_options = [\"off-street parking\", \"attached garage\", \"detached garage\"]\n",
    "states = [\"NY\", \"CA\", \"IL\"]\n",
    "\n",
    "while True:\n",
    "    house_data = pd.DataFrame({\n",
    "        \"id\": np.random.randint(1, 1000000, size=1),\n",
    "        \"url\": [\"https://www.example.com\"],\n",
    "        \"region\": [random.choice(regions)],\n",
    "        \"region_url\": [\"https://www.example.com/new-york\"],\n",
    "        \"price\": np.random.randint(500, 5000, size=1),\n",
    "        \"type\": [random.choice(types)],\n",
    "        \"sqfeet\": np.random.randint(500, 2000, size=1),\n",
    "        \"beds\": np.random.randint(1, 4, size=1),\n",
    "        \"baths\": np.random.uniform(1, 3, size=1),\n",
    "        \"cats_allowed\": [random.choice([0, 1])],\n",
    "        \"dogs_allowed\": [random.choice([0, 1])],\n",
    "        \"smoking_allowed\": [random.choice([0, 1])],\n",
    "        \"wheelchair_access\": [random.choice([0, 1])],\n",
    "        \"electric_vehicle_charge\": [random.choice([0, 1])],\n",
    "        \"comes_furnished\": [random.choice([0, 1])],\n",
    "        \"laundry_options\": [random.choice(laundry_options)],\n",
    "        \"parking_options\": [random.choice(parking_options)],\n",
    "        \"image_url\": [\"https://www.example.com/image.jpg\"],\n",
    "        \"description\": [\"This is a fake listing\"],\n",
    "        \"lat\": np.random.uniform(40, 42, size=1),\n",
    "        \"long\": np.random.uniform(-74, -72, size=1),\n",
    "        \"state\": [random.choice(states)]\n",
    "})\n",
    "\n",
    "        \n",
    "    print(str(house_data.to_json(orient=\"records\")))\n",
    "\n",
    "    producer.send('house_listings', bytes(str(house_data.to_json()),\"utf-8\"))\n",
    "\n",
    "    time.sleep(10)"
   ]
  },
  {
   "cell_type": "code",
   "execution_count": null,
   "id": "ea76b363-03f6-4c6a-b497-45683d1e6a2e",
   "metadata": {},
   "outputs": [],
   "source": []
  }
 ],
 "metadata": {
  "kernelspec": {
   "display_name": "Python 3 (ipykernel)",
   "language": "python",
   "name": "python3"
  },
  "language_info": {
   "codemirror_mode": {
    "name": "ipython",
    "version": 3
   },
   "file_extension": ".py",
   "mimetype": "text/x-python",
   "name": "python",
   "nbconvert_exporter": "python",
   "pygments_lexer": "ipython3",
   "version": "3.11.3"
  }
 },
 "nbformat": 4,
 "nbformat_minor": 5
}
