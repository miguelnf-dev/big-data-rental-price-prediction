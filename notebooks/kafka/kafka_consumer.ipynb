{
 "cells": [
  {
   "cell_type": "code",
   "execution_count": null,
   "id": "f6a5c7cd-3321-485c-93b2-9a425a4c69c1",
   "metadata": {},
   "outputs": [],
   "source": [
    "import pandas as pd\n",
    "from kafka import KafkaConsumer\n",
    "from pyspark.sql import SparkSession\n",
    "import json\n",
    "\n",
    "# Create a Spark session\n",
    "spark = SparkSession.builder.appName(\"HouseListings\").getOrCreate()\n",
    "\n",
    "# Create a Kafka consumer\n",
    "consumer = KafkaConsumer('house_listings', bootstrap_servers='SERVER_URL_HERE')\n",
    "\n",
    "# Read the data from Kafka, filter it, and write it to HDFS\n",
    "for message in consumer:\n",
    "    parsed = json.loads(message.value.decode(\"utf-8\"))\n",
    "    data = pd.read_json(json.dumps(parsed, indent=4))\n",
    "\n",
    "    # Convert the Pandas DataFrame to a Spark DataFrame\n",
    "    spark_df = spark.createDataFrame(data)\n",
    "\n",
    "    # Write the PySpark DataFrame to a CSV file in HDFS\n",
    "    spark_df.write.format(\"csv\").mode(\"append\").option(\"header\", \"true\").save(\"CLUSTER_URL_HERE/filter_app/house_listings_filtered.csv\")"
   ]
  },
  {
   "cell_type": "code",
   "execution_count": null,
   "id": "bb47c51c-80c8-4a25-8a40-b82f66c8133e",
   "metadata": {},
   "outputs": [],
   "source": [
    "\n"
   ]
  }
 ],
 "metadata": {
  "kernelspec": {
   "display_name": "Python 3 (ipykernel)",
   "language": "python",
   "name": "python3"
  },
  "language_info": {
   "codemirror_mode": {
    "name": "ipython",
    "version": 3
   },
   "file_extension": ".py",
   "mimetype": "text/x-python",
   "name": "python",
   "nbconvert_exporter": "python",
   "pygments_lexer": "ipython3",
   "version": "3.11.3"
  }
 },
 "nbformat": 4,
 "nbformat_minor": 5
}
